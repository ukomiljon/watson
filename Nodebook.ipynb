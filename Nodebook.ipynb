{
    "cells": [
        {
            "cell_type": "markdown",
            "metadata": {},
            "source": "Load from file"
        },
        {
            "cell_type": "code",
            "execution_count": 1,
            "metadata": {},
            "outputs": [
                {
                    "data": {
                        "text/html": "<div>\n<style scoped>\n    .dataframe tbody tr th:only-of-type {\n        vertical-align: middle;\n    }\n\n    .dataframe tbody tr th {\n        vertical-align: top;\n    }\n\n    .dataframe thead th {\n        text-align: right;\n    }\n</style>\n<table border=\"1\" class=\"dataframe\">\n  <thead>\n    <tr style=\"text-align: right;\">\n      <th></th>\n      <th>USER ID</th>\n      <th>USER STORY</th>\n      <th>PRIORITY</th>\n      <th>RISK</th>\n      <th>STORY POINTS</th>\n    </tr>\n  </thead>\n  <tbody>\n    <tr>\n      <th>0</th>\n      <td>1</td>\n      <td>As an athlete, I want to enter weight and heig...</td>\n      <td>Must Do</td>\n      <td>Low</td>\n      <td>3</td>\n    </tr>\n    <tr>\n      <th>1</th>\n      <td>2</td>\n      <td>As an athlete, I want the application to track...</td>\n      <td>Must Do</td>\n      <td>Low</td>\n      <td>5</td>\n    </tr>\n    <tr>\n      <th>2</th>\n      <td>3</td>\n      <td>As an athlete, I want to set a target weight, ...</td>\n      <td>Should Do</td>\n      <td>Low</td>\n      <td>1</td>\n    </tr>\n    <tr>\n      <th>3</th>\n      <td>4</td>\n      <td>As an athlete, I want the application to calcu...</td>\n      <td>Could Do</td>\n      <td>Moderate</td>\n      <td>2</td>\n    </tr>\n    <tr>\n      <th>4</th>\n      <td>5</td>\n      <td>As an athlete, I want to enter exercise that I...</td>\n      <td>Must Do</td>\n      <td>High</td>\n      <td>8</td>\n    </tr>\n  </tbody>\n</table>\n</div>",
                        "text/plain": "  USER ID                                         USER STORY   PRIORITY  \\\n0       1  As an athlete, I want to enter weight and heig...    Must Do   \n1       2  As an athlete, I want the application to track...    Must Do   \n2       3  As an athlete, I want to set a target weight, ...  Should Do   \n3       4  As an athlete, I want the application to calcu...   Could Do   \n4       5  As an athlete, I want to enter exercise that I...    Must Do   \n\n       RISK STORY POINTS  \n0       Low            3  \n1       Low            5  \n2       Low            1  \n3  Moderate            2  \n4      High            8  "
                    },
                    "execution_count": 1,
                    "metadata": {},
                    "output_type": "execute_result"
                }
            ],
            "source": "# The code was removed by Watson Studio for sharing."
        },
        {
            "cell_type": "code",
            "execution_count": null,
            "metadata": {},
            "outputs": [],
            "source": ""
        }
    ],
    "metadata": {
        "kernelspec": {
            "display_name": "Python 3.6",
            "language": "python",
            "name": "python3"
        },
        "language_info": {
            "codemirror_mode": {
                "name": "ipython",
                "version": 3
            },
            "file_extension": ".py",
            "mimetype": "text/x-python",
            "name": "python",
            "nbconvert_exporter": "python",
            "pygments_lexer": "ipython3",
            "version": "3.6.9"
        }
    },
    "nbformat": 4,
    "nbformat_minor": 1
}